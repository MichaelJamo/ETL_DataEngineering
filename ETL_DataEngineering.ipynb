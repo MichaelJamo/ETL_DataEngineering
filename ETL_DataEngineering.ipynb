{
  "nbformat": 4,
  "nbformat_minor": 0,
  "metadata": {
    "colab": {
      "provenance": []
    },
    "kernelspec": {
      "name": "python3",
      "display_name": "Python 3"
    },
    "language_info": {
      "name": "python"
    }
  },
  "cells": [
    {
      "cell_type": "markdown",
      "source": [
        "\n",
        "\n",
        ">  Objectives\n",
        "In this final part you will:\n",
        "\n",
        "Run the ETL process\n",
        "Extract bank and market cap data from the JSON file bank_market_cap.json\n",
        "Transform the market cap currency using the exchange rate data\n",
        "Load the transformed data into a seperate CSV\n",
        "For this lab, we are going to be using Python and several Python libraries. Some of these libraries might be installed in your lab environment or in SN Labs. Others may need to be installed by you. The cells below will install these libraries when executed.\n",
        "\n"
      ],
      "metadata": {
        "id": "TnwSMpnOnXw-"
      }
    },
    {
      "cell_type": "code",
      "execution_count": 1,
      "metadata": {
        "colab": {
          "base_uri": "https://localhost:8080/"
        },
        "id": "_whK0myhwi9G",
        "outputId": "2473304b-aba7-4e83-9b48-4a42500491e3"
      },
      "outputs": [
        {
          "output_type": "stream",
          "name": "stdout",
          "text": [
            "/bin/bash: mamba: command not found\n",
            "/bin/bash: mamba: command not found\n"
          ]
        }
      ],
      "source": [
        "#Importing Libraries\n",
        "!mamba install pandas==1.3.3 -y\n",
        "!mamba install requests==2.26.0 -y"
      ]
    },
    {
      "cell_type": "code",
      "source": [
        "import glob\n",
        "import pandas as pd\n",
        "import requests\n",
        "from datetime import datetime"
      ],
      "metadata": {
        "id": "IjmBBlv3wmid"
      },
      "execution_count": 2,
      "outputs": []
    },
    {
      "cell_type": "code",
      "source": [
        "!wget https://cf-courses-data.s3.us.cloud-object-storage.appdomain.cloud/IBMDeveloperSkillsNetwork-PY0221EN-SkillsNetwork/labs/module%206/Lab%20-%20Extract%20Transform%20Load/data/bank_market_cap_1.json\n",
        "!wget https://cf-courses-data.s3.us.cloud-object-storage.appdomain.cloud/IBMDeveloperSkillsNetwork-PY0221EN-SkillsNetwork/labs/module%206/Lab%20-%20Extract%20Transform%20Load/data/bank_market_cap_2.json\n",
        "!wget https://cf-courses-data.s3.us.cloud-object-storage.appdomain.cloud/IBMDeveloperSkillsNetwork-PY0221EN-SkillsNetwork/labs/module%206/Final%20Assignment/exchange_rates.csv"
      ],
      "metadata": {
        "colab": {
          "base_uri": "https://localhost:8080/"
        },
        "id": "w3WIe4m1wmlx",
        "outputId": "9d6a8336-e586-4720-8f27-b77c17a5033f"
      },
      "execution_count": 3,
      "outputs": [
        {
          "output_type": "stream",
          "name": "stdout",
          "text": [
            "--2023-01-17 08:51:08--  https://cf-courses-data.s3.us.cloud-object-storage.appdomain.cloud/IBMDeveloperSkillsNetwork-PY0221EN-SkillsNetwork/labs/module%206/Lab%20-%20Extract%20Transform%20Load/data/bank_market_cap_1.json\n",
            "Resolving cf-courses-data.s3.us.cloud-object-storage.appdomain.cloud (cf-courses-data.s3.us.cloud-object-storage.appdomain.cloud)... 169.45.118.108\n",
            "Connecting to cf-courses-data.s3.us.cloud-object-storage.appdomain.cloud (cf-courses-data.s3.us.cloud-object-storage.appdomain.cloud)|169.45.118.108|:443... connected.\n",
            "HTTP request sent, awaiting response... 200 OK\n",
            "Length: 2815 (2.7K) [application/json]\n",
            "Saving to: ‘bank_market_cap_1.json’\n",
            "\n",
            "bank_market_cap_1.j 100%[===================>]   2.75K  --.-KB/s    in 0s      \n",
            "\n",
            "2023-01-17 08:51:09 (361 MB/s) - ‘bank_market_cap_1.json’ saved [2815/2815]\n",
            "\n",
            "--2023-01-17 08:51:09--  https://cf-courses-data.s3.us.cloud-object-storage.appdomain.cloud/IBMDeveloperSkillsNetwork-PY0221EN-SkillsNetwork/labs/module%206/Lab%20-%20Extract%20Transform%20Load/data/bank_market_cap_2.json\n",
            "Resolving cf-courses-data.s3.us.cloud-object-storage.appdomain.cloud (cf-courses-data.s3.us.cloud-object-storage.appdomain.cloud)... 169.45.118.108\n",
            "Connecting to cf-courses-data.s3.us.cloud-object-storage.appdomain.cloud (cf-courses-data.s3.us.cloud-object-storage.appdomain.cloud)|169.45.118.108|:443... connected.\n",
            "HTTP request sent, awaiting response... 200 OK\n",
            "Length: 1429 (1.4K) [application/json]\n",
            "Saving to: ‘bank_market_cap_2.json’\n",
            "\n",
            "bank_market_cap_2.j 100%[===================>]   1.40K  --.-KB/s    in 0s      \n",
            "\n",
            "2023-01-17 08:51:10 (169 MB/s) - ‘bank_market_cap_2.json’ saved [1429/1429]\n",
            "\n",
            "--2023-01-17 08:51:10--  https://cf-courses-data.s3.us.cloud-object-storage.appdomain.cloud/IBMDeveloperSkillsNetwork-PY0221EN-SkillsNetwork/labs/module%206/Final%20Assignment/exchange_rates.csv\n",
            "Resolving cf-courses-data.s3.us.cloud-object-storage.appdomain.cloud (cf-courses-data.s3.us.cloud-object-storage.appdomain.cloud)... 169.45.118.108\n",
            "Connecting to cf-courses-data.s3.us.cloud-object-storage.appdomain.cloud (cf-courses-data.s3.us.cloud-object-storage.appdomain.cloud)|169.45.118.108|:443... connected.\n",
            "HTTP request sent, awaiting response... 200 OK\n",
            "Length: 590 [text/csv]\n",
            "Saving to: ‘exchange_rates.csv’\n",
            "\n",
            "exchange_rates.csv  100%[===================>]     590  --.-KB/s    in 0s      \n",
            "\n",
            "2023-01-17 08:51:11 (82.8 MB/s) - ‘exchange_rates.csv’ saved [590/590]\n",
            "\n"
          ]
        }
      ]
    },
    {
      "cell_type": "code",
      "source": [],
      "metadata": {
        "id": "FEa5leT6wmpS"
      },
      "execution_count": 3,
      "outputs": []
    },
    {
      "cell_type": "code",
      "source": [
        "#JSON Extract Function\n",
        "#this function will extract JSON files.\n",
        "\n",
        "def extract_from_json(file_to_process):\n",
        "    dataframe = pd.read_json(file_to_process)\n",
        "    return dataframe"
      ],
      "metadata": {
        "id": "A_jff66awmsL"
      },
      "execution_count": 4,
      "outputs": []
    },
    {
      "cell_type": "code",
      "source": [
        "columns=['Name','Market Cap (US$ Billion)']\n",
        "market_cap_file = 'bank_market_cap_1.json'\n",
        "exchange_rate_file = 'exchange_rates.csv'\n",
        "load_to_file = 'bank_market_cap_gbp.csv'"
      ],
      "metadata": {
        "id": "99c1Kv9owm0-"
      },
      "execution_count": 5,
      "outputs": []
    },
    {
      "cell_type": "code",
      "source": [
        "#Define the extract function that finds JSON file bank_market_cap_1.json and calls the function created above to extract data from them. \n",
        "#Store the data in a pandas dataframe. Use the following list for the columns.\n",
        "def extract(file_name):\n",
        "    extracted_data = extract_from_json(file_name)\n",
        "    df = pd.DataFrame(extracted_data, columns=columns)\n",
        "    \n",
        "    return df"
      ],
      "metadata": {
        "id": "3vCkt3A2wm3h"
      },
      "execution_count": 6,
      "outputs": []
    },
    {
      "cell_type": "code",
      "source": [
        "#Question 1 Load the file exchange_rates.csv as a dataframe and find the exchange rate for British pounds with the symbol GBP, store it in the variable exchange_rate, \n",
        "#you will be asked for the number. Hint: set the parameter index_col to 0.\n"
      ],
      "metadata": {
        "id": "nr9dXpzKkI5v"
      },
      "execution_count": 7,
      "outputs": []
    },
    {
      "cell_type": "code",
      "source": [
        "rates = pd.read_csv(exchange_rate_file, index_col=0)\n",
        "exchange_rate = rates.at['GBP', 'Rates']\n",
        "exchange_rate"
      ],
      "metadata": {
        "colab": {
          "base_uri": "https://localhost:8080/"
        },
        "id": "2jrwkNqq67IL",
        "outputId": "2c027294-9bf4-496f-f160-97a0f8fa4dca"
      },
      "execution_count": 8,
      "outputs": [
        {
          "output_type": "execute_result",
          "data": {
            "text/plain": [
              "0.7323984208000001"
            ]
          },
          "metadata": {},
          "execution_count": 8
        }
      ]
    },
    {
      "cell_type": "markdown",
      "source": [
        "Transform\n",
        "Using exchange_rate and the exchange_rates.csv file find the exchange rate of USD to GBP. Write a transform function that\n",
        "\n",
        "Changes the Market Cap (US$ Billion) column from USD to GBP\n",
        "Rounds the Market Cap (US$ Billion)` column to 3 decimal places\n",
        "Rename Market Cap (US$ Billion) to Market Cap (GBP$ Billion)"
      ],
      "metadata": {
        "id": "oRF-Aks35D1F"
      }
    },
    {
      "cell_type": "code",
      "source": [
        "def transform(extracted_df, exchange_rate):\n",
        "    transformed_df = extracted_df.rename(columns={'Market Cap (US$ Billion)': 'Dollar'})\n",
        "    transformed_df['Dollar'] = round(transformed_df.Dollar * exchange_rate, 3)\n",
        "    transformed_df = transformed_df.rename(columns={'Dollar': 'Market Cap (GBP$ Billion)'})\n",
        "    \n",
        "    return transformed_df"
      ],
      "metadata": {
        "id": "25lxnvcbkI-7"
      },
      "execution_count": 9,
      "outputs": []
    },
    {
      "cell_type": "markdown",
      "source": [
        "Create a function that takes a dataframe and load it to a csv named bank_market_cap_gbp.csv. Make sure to set index to False."
      ],
      "metadata": {
        "id": "cBobzBO85OrE"
      }
    },
    {
      "cell_type": "code",
      "source": [
        "def load(df_to_load, filename):\n",
        "    df_to_load.to_csv(filename)\n",
        "    "
      ],
      "metadata": {
        "id": "mOsxVdlZJ06A"
      },
      "execution_count": 10,
      "outputs": []
    },
    {
      "cell_type": "markdown",
      "source": [
        "\n",
        "Logging Function\n",
        "Write the logging function log to log your data:"
      ],
      "metadata": {
        "id": "3JupCNzG5Vdt"
      }
    },
    {
      "cell_type": "code",
      "source": [
        "def log(message):\n",
        "    timestamp_format = '%d-%h-%Y-%H:%M:%S'\n",
        "    time = datetime.now()\n",
        "    timestamp = time.strftime(timestamp_format)\n",
        "    with open(\"logfile.txt\",\"a\") as f:\n",
        "        f.write(f'{timestamp}, {message}\\n')"
      ],
      "metadata": {
        "id": "EWK2JmBcJ7xu"
      },
      "execution_count": 11,
      "outputs": []
    },
    {
      "cell_type": "markdown",
      "source": [
        "Running the ETL Process\n",
        "Log the process accordingly using the following \"ETL Job Started\" and \"Extract phase Started\""
      ],
      "metadata": {
        "id": "fw9aMJPZ5g5_"
      }
    },
    {
      "cell_type": "code",
      "source": [
        "log('ETL Job Started')\n",
        "log('Exract Phase Started')"
      ],
      "metadata": {
        "id": "HMuEghSxJ701"
      },
      "execution_count": 12,
      "outputs": []
    },
    {
      "cell_type": "markdown",
      "source": [
        "Extract\n",
        "Question 2 Use the function extract, and print the first 5 rows, take a screen shot:"
      ],
      "metadata": {
        "id": "bcU0Usg05oLq"
      }
    },
    {
      "cell_type": "code",
      "source": [
        "extracted_data = extract(market_cap_file)\n",
        "\n",
        "extracted_data.head()"
      ],
      "metadata": {
        "colab": {
          "base_uri": "https://localhost:8080/",
          "height": 206
        },
        "id": "_a2a8p7lKD-8",
        "outputId": "4a811cdc-25e9-4904-f949-5e07ace6dd24"
      },
      "execution_count": 13,
      "outputs": [
        {
          "output_type": "execute_result",
          "data": {
            "text/plain": [
              "                                      Name  Market Cap (US$ Billion)\n",
              "0                           JPMorgan Chase                   390.934\n",
              "1  Industrial and Commercial Bank of China                   345.214\n",
              "2                          Bank of America                   325.331\n",
              "3                              Wells Fargo                   308.013\n",
              "4                  China Construction Bank                   257.399"
            ],
            "text/html": [
              "\n",
              "  <div id=\"df-656aa41a-e7bd-457e-8b15-2ce847a389b4\">\n",
              "    <div class=\"colab-df-container\">\n",
              "      <div>\n",
              "<style scoped>\n",
              "    .dataframe tbody tr th:only-of-type {\n",
              "        vertical-align: middle;\n",
              "    }\n",
              "\n",
              "    .dataframe tbody tr th {\n",
              "        vertical-align: top;\n",
              "    }\n",
              "\n",
              "    .dataframe thead th {\n",
              "        text-align: right;\n",
              "    }\n",
              "</style>\n",
              "<table border=\"1\" class=\"dataframe\">\n",
              "  <thead>\n",
              "    <tr style=\"text-align: right;\">\n",
              "      <th></th>\n",
              "      <th>Name</th>\n",
              "      <th>Market Cap (US$ Billion)</th>\n",
              "    </tr>\n",
              "  </thead>\n",
              "  <tbody>\n",
              "    <tr>\n",
              "      <th>0</th>\n",
              "      <td>JPMorgan Chase</td>\n",
              "      <td>390.934</td>\n",
              "    </tr>\n",
              "    <tr>\n",
              "      <th>1</th>\n",
              "      <td>Industrial and Commercial Bank of China</td>\n",
              "      <td>345.214</td>\n",
              "    </tr>\n",
              "    <tr>\n",
              "      <th>2</th>\n",
              "      <td>Bank of America</td>\n",
              "      <td>325.331</td>\n",
              "    </tr>\n",
              "    <tr>\n",
              "      <th>3</th>\n",
              "      <td>Wells Fargo</td>\n",
              "      <td>308.013</td>\n",
              "    </tr>\n",
              "    <tr>\n",
              "      <th>4</th>\n",
              "      <td>China Construction Bank</td>\n",
              "      <td>257.399</td>\n",
              "    </tr>\n",
              "  </tbody>\n",
              "</table>\n",
              "</div>\n",
              "      <button class=\"colab-df-convert\" onclick=\"convertToInteractive('df-656aa41a-e7bd-457e-8b15-2ce847a389b4')\"\n",
              "              title=\"Convert this dataframe to an interactive table.\"\n",
              "              style=\"display:none;\">\n",
              "        \n",
              "  <svg xmlns=\"http://www.w3.org/2000/svg\" height=\"24px\"viewBox=\"0 0 24 24\"\n",
              "       width=\"24px\">\n",
              "    <path d=\"M0 0h24v24H0V0z\" fill=\"none\"/>\n",
              "    <path d=\"M18.56 5.44l.94 2.06.94-2.06 2.06-.94-2.06-.94-.94-2.06-.94 2.06-2.06.94zm-11 1L8.5 8.5l.94-2.06 2.06-.94-2.06-.94L8.5 2.5l-.94 2.06-2.06.94zm10 10l.94 2.06.94-2.06 2.06-.94-2.06-.94-.94-2.06-.94 2.06-2.06.94z\"/><path d=\"M17.41 7.96l-1.37-1.37c-.4-.4-.92-.59-1.43-.59-.52 0-1.04.2-1.43.59L10.3 9.45l-7.72 7.72c-.78.78-.78 2.05 0 2.83L4 21.41c.39.39.9.59 1.41.59.51 0 1.02-.2 1.41-.59l7.78-7.78 2.81-2.81c.8-.78.8-2.07 0-2.86zM5.41 20L4 18.59l7.72-7.72 1.47 1.35L5.41 20z\"/>\n",
              "  </svg>\n",
              "      </button>\n",
              "      \n",
              "  <style>\n",
              "    .colab-df-container {\n",
              "      display:flex;\n",
              "      flex-wrap:wrap;\n",
              "      gap: 12px;\n",
              "    }\n",
              "\n",
              "    .colab-df-convert {\n",
              "      background-color: #E8F0FE;\n",
              "      border: none;\n",
              "      border-radius: 50%;\n",
              "      cursor: pointer;\n",
              "      display: none;\n",
              "      fill: #1967D2;\n",
              "      height: 32px;\n",
              "      padding: 0 0 0 0;\n",
              "      width: 32px;\n",
              "    }\n",
              "\n",
              "    .colab-df-convert:hover {\n",
              "      background-color: #E2EBFA;\n",
              "      box-shadow: 0px 1px 2px rgba(60, 64, 67, 0.3), 0px 1px 3px 1px rgba(60, 64, 67, 0.15);\n",
              "      fill: #174EA6;\n",
              "    }\n",
              "\n",
              "    [theme=dark] .colab-df-convert {\n",
              "      background-color: #3B4455;\n",
              "      fill: #D2E3FC;\n",
              "    }\n",
              "\n",
              "    [theme=dark] .colab-df-convert:hover {\n",
              "      background-color: #434B5C;\n",
              "      box-shadow: 0px 1px 3px 1px rgba(0, 0, 0, 0.15);\n",
              "      filter: drop-shadow(0px 1px 2px rgba(0, 0, 0, 0.3));\n",
              "      fill: #FFFFFF;\n",
              "    }\n",
              "  </style>\n",
              "\n",
              "      <script>\n",
              "        const buttonEl =\n",
              "          document.querySelector('#df-656aa41a-e7bd-457e-8b15-2ce847a389b4 button.colab-df-convert');\n",
              "        buttonEl.style.display =\n",
              "          google.colab.kernel.accessAllowed ? 'block' : 'none';\n",
              "\n",
              "        async function convertToInteractive(key) {\n",
              "          const element = document.querySelector('#df-656aa41a-e7bd-457e-8b15-2ce847a389b4');\n",
              "          const dataTable =\n",
              "            await google.colab.kernel.invokeFunction('convertToInteractive',\n",
              "                                                     [key], {});\n",
              "          if (!dataTable) return;\n",
              "\n",
              "          const docLinkHtml = 'Like what you see? Visit the ' +\n",
              "            '<a target=\"_blank\" href=https://colab.research.google.com/notebooks/data_table.ipynb>data table notebook</a>'\n",
              "            + ' to learn more about interactive tables.';\n",
              "          element.innerHTML = '';\n",
              "          dataTable['output_type'] = 'display_data';\n",
              "          await google.colab.output.renderOutput(dataTable, element);\n",
              "          const docLink = document.createElement('div');\n",
              "          docLink.innerHTML = docLinkHtml;\n",
              "          element.appendChild(docLink);\n",
              "        }\n",
              "      </script>\n",
              "    </div>\n",
              "  </div>\n",
              "  "
            ]
          },
          "metadata": {},
          "execution_count": 13
        }
      ]
    },
    {
      "cell_type": "markdown",
      "source": [
        "Log the data as \"Extract phase Ended\""
      ],
      "metadata": {
        "id": "wLXwZDcq5zW_"
      }
    },
    {
      "cell_type": "code",
      "source": [
        "log('Extract Phase Ended')"
      ],
      "metadata": {
        "id": "fNlEkAFyKKf6"
      },
      "execution_count": 14,
      "outputs": []
    },
    {
      "cell_type": "markdown",
      "source": [
        "Transform\n",
        "Log the following \"Transform phase Started\""
      ],
      "metadata": {
        "id": "zJamjciF59ta"
      }
    },
    {
      "cell_type": "code",
      "source": [
        "log('Transform Phase Started')"
      ],
      "metadata": {
        "id": "je-3NEW-KKjU"
      },
      "execution_count": 15,
      "outputs": []
    },
    {
      "cell_type": "markdown",
      "source": [
        "Question 3 Use the function transform and print the first 5 rows of the output, take a screen shot:"
      ],
      "metadata": {
        "id": "DaFrqlnO6JuU"
      }
    },
    {
      "cell_type": "code",
      "source": [
        "transformed_data = transform(extracted_data, exchange_rate)\n",
        "\n",
        "transformed_data.head()"
      ],
      "metadata": {
        "colab": {
          "base_uri": "https://localhost:8080/",
          "height": 206
        },
        "id": "FYNjgkmZKRI-",
        "outputId": "874400e8-e77d-43e1-c104-28f6ffc3c7c5"
      },
      "execution_count": 16,
      "outputs": [
        {
          "output_type": "execute_result",
          "data": {
            "text/plain": [
              "                                      Name  Market Cap (GBP$ Billion)\n",
              "0                           JPMorgan Chase                    286.319\n",
              "1  Industrial and Commercial Bank of China                    252.834\n",
              "2                          Bank of America                    238.272\n",
              "3                              Wells Fargo                    225.588\n",
              "4                  China Construction Bank                    188.519"
            ],
            "text/html": [
              "\n",
              "  <div id=\"df-613cd797-e5b0-4fc1-828b-38f56408582d\">\n",
              "    <div class=\"colab-df-container\">\n",
              "      <div>\n",
              "<style scoped>\n",
              "    .dataframe tbody tr th:only-of-type {\n",
              "        vertical-align: middle;\n",
              "    }\n",
              "\n",
              "    .dataframe tbody tr th {\n",
              "        vertical-align: top;\n",
              "    }\n",
              "\n",
              "    .dataframe thead th {\n",
              "        text-align: right;\n",
              "    }\n",
              "</style>\n",
              "<table border=\"1\" class=\"dataframe\">\n",
              "  <thead>\n",
              "    <tr style=\"text-align: right;\">\n",
              "      <th></th>\n",
              "      <th>Name</th>\n",
              "      <th>Market Cap (GBP$ Billion)</th>\n",
              "    </tr>\n",
              "  </thead>\n",
              "  <tbody>\n",
              "    <tr>\n",
              "      <th>0</th>\n",
              "      <td>JPMorgan Chase</td>\n",
              "      <td>286.319</td>\n",
              "    </tr>\n",
              "    <tr>\n",
              "      <th>1</th>\n",
              "      <td>Industrial and Commercial Bank of China</td>\n",
              "      <td>252.834</td>\n",
              "    </tr>\n",
              "    <tr>\n",
              "      <th>2</th>\n",
              "      <td>Bank of America</td>\n",
              "      <td>238.272</td>\n",
              "    </tr>\n",
              "    <tr>\n",
              "      <th>3</th>\n",
              "      <td>Wells Fargo</td>\n",
              "      <td>225.588</td>\n",
              "    </tr>\n",
              "    <tr>\n",
              "      <th>4</th>\n",
              "      <td>China Construction Bank</td>\n",
              "      <td>188.519</td>\n",
              "    </tr>\n",
              "  </tbody>\n",
              "</table>\n",
              "</div>\n",
              "      <button class=\"colab-df-convert\" onclick=\"convertToInteractive('df-613cd797-e5b0-4fc1-828b-38f56408582d')\"\n",
              "              title=\"Convert this dataframe to an interactive table.\"\n",
              "              style=\"display:none;\">\n",
              "        \n",
              "  <svg xmlns=\"http://www.w3.org/2000/svg\" height=\"24px\"viewBox=\"0 0 24 24\"\n",
              "       width=\"24px\">\n",
              "    <path d=\"M0 0h24v24H0V0z\" fill=\"none\"/>\n",
              "    <path d=\"M18.56 5.44l.94 2.06.94-2.06 2.06-.94-2.06-.94-.94-2.06-.94 2.06-2.06.94zm-11 1L8.5 8.5l.94-2.06 2.06-.94-2.06-.94L8.5 2.5l-.94 2.06-2.06.94zm10 10l.94 2.06.94-2.06 2.06-.94-2.06-.94-.94-2.06-.94 2.06-2.06.94z\"/><path d=\"M17.41 7.96l-1.37-1.37c-.4-.4-.92-.59-1.43-.59-.52 0-1.04.2-1.43.59L10.3 9.45l-7.72 7.72c-.78.78-.78 2.05 0 2.83L4 21.41c.39.39.9.59 1.41.59.51 0 1.02-.2 1.41-.59l7.78-7.78 2.81-2.81c.8-.78.8-2.07 0-2.86zM5.41 20L4 18.59l7.72-7.72 1.47 1.35L5.41 20z\"/>\n",
              "  </svg>\n",
              "      </button>\n",
              "      \n",
              "  <style>\n",
              "    .colab-df-container {\n",
              "      display:flex;\n",
              "      flex-wrap:wrap;\n",
              "      gap: 12px;\n",
              "    }\n",
              "\n",
              "    .colab-df-convert {\n",
              "      background-color: #E8F0FE;\n",
              "      border: none;\n",
              "      border-radius: 50%;\n",
              "      cursor: pointer;\n",
              "      display: none;\n",
              "      fill: #1967D2;\n",
              "      height: 32px;\n",
              "      padding: 0 0 0 0;\n",
              "      width: 32px;\n",
              "    }\n",
              "\n",
              "    .colab-df-convert:hover {\n",
              "      background-color: #E2EBFA;\n",
              "      box-shadow: 0px 1px 2px rgba(60, 64, 67, 0.3), 0px 1px 3px 1px rgba(60, 64, 67, 0.15);\n",
              "      fill: #174EA6;\n",
              "    }\n",
              "\n",
              "    [theme=dark] .colab-df-convert {\n",
              "      background-color: #3B4455;\n",
              "      fill: #D2E3FC;\n",
              "    }\n",
              "\n",
              "    [theme=dark] .colab-df-convert:hover {\n",
              "      background-color: #434B5C;\n",
              "      box-shadow: 0px 1px 3px 1px rgba(0, 0, 0, 0.15);\n",
              "      filter: drop-shadow(0px 1px 2px rgba(0, 0, 0, 0.3));\n",
              "      fill: #FFFFFF;\n",
              "    }\n",
              "  </style>\n",
              "\n",
              "      <script>\n",
              "        const buttonEl =\n",
              "          document.querySelector('#df-613cd797-e5b0-4fc1-828b-38f56408582d button.colab-df-convert');\n",
              "        buttonEl.style.display =\n",
              "          google.colab.kernel.accessAllowed ? 'block' : 'none';\n",
              "\n",
              "        async function convertToInteractive(key) {\n",
              "          const element = document.querySelector('#df-613cd797-e5b0-4fc1-828b-38f56408582d');\n",
              "          const dataTable =\n",
              "            await google.colab.kernel.invokeFunction('convertToInteractive',\n",
              "                                                     [key], {});\n",
              "          if (!dataTable) return;\n",
              "\n",
              "          const docLinkHtml = 'Like what you see? Visit the ' +\n",
              "            '<a target=\"_blank\" href=https://colab.research.google.com/notebooks/data_table.ipynb>data table notebook</a>'\n",
              "            + ' to learn more about interactive tables.';\n",
              "          element.innerHTML = '';\n",
              "          dataTable['output_type'] = 'display_data';\n",
              "          await google.colab.output.renderOutput(dataTable, element);\n",
              "          const docLink = document.createElement('div');\n",
              "          docLink.innerHTML = docLinkHtml;\n",
              "          element.appendChild(docLink);\n",
              "        }\n",
              "      </script>\n",
              "    </div>\n",
              "  </div>\n",
              "  "
            ]
          },
          "metadata": {},
          "execution_count": 16
        }
      ]
    },
    {
      "cell_type": "markdown",
      "source": [
        "Log your data \"Transform phase Ended\""
      ],
      "metadata": {
        "id": "ptlM0EXx6Nx1"
      }
    },
    {
      "cell_type": "code",
      "source": [
        "log('Transform Phase Ended')"
      ],
      "metadata": {
        "id": "UeWZVIR4KVSs"
      },
      "execution_count": 17,
      "outputs": []
    },
    {
      "cell_type": "markdown",
      "source": [
        "Load\n",
        "Log the following \"Load phase Started\"."
      ],
      "metadata": {
        "id": "eUIc1SBU6S-p"
      }
    },
    {
      "cell_type": "code",
      "source": [
        "log('Load Phase Started')"
      ],
      "metadata": {
        "id": "a6rauD2lKVWG"
      },
      "execution_count": 18,
      "outputs": []
    },
    {
      "cell_type": "markdown",
      "source": [
        "Call the load function"
      ],
      "metadata": {
        "id": "XYhTer916ZCm"
      }
    },
    {
      "cell_type": "code",
      "source": [
        "load(transformed_data, load_to_file)"
      ],
      "metadata": {
        "id": "82hICNjuKVY_"
      },
      "execution_count": 19,
      "outputs": []
    },
    {
      "cell_type": "markdown",
      "source": [
        "Log the following \"Load phase Ended\"."
      ],
      "metadata": {
        "id": "dlf3dJIl6hvu"
      }
    },
    {
      "cell_type": "code",
      "source": [
        "log('Load Phase Ended')"
      ],
      "metadata": {
        "id": "aXHJlKKYKe3q"
      },
      "execution_count": 20,
      "outputs": []
    }
  ]
}